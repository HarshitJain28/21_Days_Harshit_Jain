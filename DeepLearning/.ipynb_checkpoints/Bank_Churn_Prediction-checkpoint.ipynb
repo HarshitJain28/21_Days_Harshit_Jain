{
 "cells": [
  {
   "cell_type": "code",
   "execution_count": 1,
   "id": "98e147a8",
   "metadata": {},
   "outputs": [],
   "source": [
    "import tensorflow as tf\n",
    "from tensorflow import keras\n",
    "import pandas as pd\n",
    "import matplotlib.pyplot as plt"
   ]
  },
  {
   "cell_type": "code",
   "execution_count": 8,
   "id": "78c69201",
   "metadata": {},
   "outputs": [
    {
     "data": {
      "text/html": [
       "<div>\n",
       "<style scoped>\n",
       "    .dataframe tbody tr th:only-of-type {\n",
       "        vertical-align: middle;\n",
       "    }\n",
       "\n",
       "    .dataframe tbody tr th {\n",
       "        vertical-align: top;\n",
       "    }\n",
       "\n",
       "    .dataframe thead th {\n",
       "        text-align: right;\n",
       "    }\n",
       "</style>\n",
       "<table border=\"1\" class=\"dataframe\">\n",
       "  <thead>\n",
       "    <tr style=\"text-align: right;\">\n",
       "      <th></th>\n",
       "      <th>RowNumber</th>\n",
       "      <th>CustomerId</th>\n",
       "      <th>Surname</th>\n",
       "      <th>CreditScore</th>\n",
       "      <th>Geography</th>\n",
       "      <th>Gender</th>\n",
       "      <th>Age</th>\n",
       "      <th>Tenure</th>\n",
       "      <th>Balance</th>\n",
       "      <th>NumOfProducts</th>\n",
       "      <th>HasCrCard</th>\n",
       "      <th>IsActiveMember</th>\n",
       "      <th>EstimatedSalary</th>\n",
       "      <th>Exited</th>\n",
       "    </tr>\n",
       "  </thead>\n",
       "  <tbody>\n",
       "    <tr>\n",
       "      <th>0</th>\n",
       "      <td>1</td>\n",
       "      <td>15634602</td>\n",
       "      <td>Hargrave</td>\n",
       "      <td>619</td>\n",
       "      <td>France</td>\n",
       "      <td>Female</td>\n",
       "      <td>42</td>\n",
       "      <td>2</td>\n",
       "      <td>0.00</td>\n",
       "      <td>1</td>\n",
       "      <td>1</td>\n",
       "      <td>1</td>\n",
       "      <td>101348.88</td>\n",
       "      <td>1</td>\n",
       "    </tr>\n",
       "    <tr>\n",
       "      <th>1</th>\n",
       "      <td>2</td>\n",
       "      <td>15647311</td>\n",
       "      <td>Hill</td>\n",
       "      <td>608</td>\n",
       "      <td>Spain</td>\n",
       "      <td>Female</td>\n",
       "      <td>41</td>\n",
       "      <td>1</td>\n",
       "      <td>83807.86</td>\n",
       "      <td>1</td>\n",
       "      <td>0</td>\n",
       "      <td>1</td>\n",
       "      <td>112542.58</td>\n",
       "      <td>0</td>\n",
       "    </tr>\n",
       "    <tr>\n",
       "      <th>2</th>\n",
       "      <td>3</td>\n",
       "      <td>15619304</td>\n",
       "      <td>Onio</td>\n",
       "      <td>502</td>\n",
       "      <td>France</td>\n",
       "      <td>Female</td>\n",
       "      <td>42</td>\n",
       "      <td>8</td>\n",
       "      <td>159660.80</td>\n",
       "      <td>3</td>\n",
       "      <td>1</td>\n",
       "      <td>0</td>\n",
       "      <td>113931.57</td>\n",
       "      <td>1</td>\n",
       "    </tr>\n",
       "    <tr>\n",
       "      <th>3</th>\n",
       "      <td>4</td>\n",
       "      <td>15701354</td>\n",
       "      <td>Boni</td>\n",
       "      <td>699</td>\n",
       "      <td>France</td>\n",
       "      <td>Female</td>\n",
       "      <td>39</td>\n",
       "      <td>1</td>\n",
       "      <td>0.00</td>\n",
       "      <td>2</td>\n",
       "      <td>0</td>\n",
       "      <td>0</td>\n",
       "      <td>93826.63</td>\n",
       "      <td>0</td>\n",
       "    </tr>\n",
       "    <tr>\n",
       "      <th>4</th>\n",
       "      <td>5</td>\n",
       "      <td>15737888</td>\n",
       "      <td>Mitchell</td>\n",
       "      <td>850</td>\n",
       "      <td>Spain</td>\n",
       "      <td>Female</td>\n",
       "      <td>43</td>\n",
       "      <td>2</td>\n",
       "      <td>125510.82</td>\n",
       "      <td>1</td>\n",
       "      <td>1</td>\n",
       "      <td>1</td>\n",
       "      <td>79084.10</td>\n",
       "      <td>0</td>\n",
       "    </tr>\n",
       "  </tbody>\n",
       "</table>\n",
       "</div>"
      ],
      "text/plain": [
       "   RowNumber  CustomerId   Surname  CreditScore Geography  Gender  Age  \\\n",
       "0          1    15634602  Hargrave          619    France  Female   42   \n",
       "1          2    15647311      Hill          608     Spain  Female   41   \n",
       "2          3    15619304      Onio          502    France  Female   42   \n",
       "3          4    15701354      Boni          699    France  Female   39   \n",
       "4          5    15737888  Mitchell          850     Spain  Female   43   \n",
       "\n",
       "   Tenure    Balance  NumOfProducts  HasCrCard  IsActiveMember  \\\n",
       "0       2       0.00              1          1               1   \n",
       "1       1   83807.86              1          0               1   \n",
       "2       8  159660.80              3          1               0   \n",
       "3       1       0.00              2          0               0   \n",
       "4       2  125510.82              1          1               1   \n",
       "\n",
       "   EstimatedSalary  Exited  \n",
       "0        101348.88       1  \n",
       "1        112542.58       0  \n",
       "2        113931.57       1  \n",
       "3         93826.63       0  \n",
       "4         79084.10       0  "
      ]
     },
     "execution_count": 8,
     "metadata": {},
     "output_type": "execute_result"
    }
   ],
   "source": [
    "df = pd.read_csv('./Datasets/bank_churn.csv')\n",
    "df.head()"
   ]
  },
  {
   "cell_type": "code",
   "execution_count": 9,
   "id": "f8442f28",
   "metadata": {},
   "outputs": [
    {
     "data": {
      "text/html": [
       "<div>\n",
       "<style scoped>\n",
       "    .dataframe tbody tr th:only-of-type {\n",
       "        vertical-align: middle;\n",
       "    }\n",
       "\n",
       "    .dataframe tbody tr th {\n",
       "        vertical-align: top;\n",
       "    }\n",
       "\n",
       "    .dataframe thead th {\n",
       "        text-align: right;\n",
       "    }\n",
       "</style>\n",
       "<table border=\"1\" class=\"dataframe\">\n",
       "  <thead>\n",
       "    <tr style=\"text-align: right;\">\n",
       "      <th></th>\n",
       "      <th>CreditScore</th>\n",
       "      <th>Geography</th>\n",
       "      <th>Gender</th>\n",
       "      <th>Age</th>\n",
       "      <th>Tenure</th>\n",
       "      <th>Balance</th>\n",
       "      <th>NumOfProducts</th>\n",
       "      <th>HasCrCard</th>\n",
       "      <th>IsActiveMember</th>\n",
       "      <th>EstimatedSalary</th>\n",
       "      <th>Exited</th>\n",
       "    </tr>\n",
       "  </thead>\n",
       "  <tbody>\n",
       "    <tr>\n",
       "      <th>0</th>\n",
       "      <td>619</td>\n",
       "      <td>France</td>\n",
       "      <td>Female</td>\n",
       "      <td>42</td>\n",
       "      <td>2</td>\n",
       "      <td>0.00</td>\n",
       "      <td>1</td>\n",
       "      <td>1</td>\n",
       "      <td>1</td>\n",
       "      <td>101348.88</td>\n",
       "      <td>1</td>\n",
       "    </tr>\n",
       "    <tr>\n",
       "      <th>1</th>\n",
       "      <td>608</td>\n",
       "      <td>Spain</td>\n",
       "      <td>Female</td>\n",
       "      <td>41</td>\n",
       "      <td>1</td>\n",
       "      <td>83807.86</td>\n",
       "      <td>1</td>\n",
       "      <td>0</td>\n",
       "      <td>1</td>\n",
       "      <td>112542.58</td>\n",
       "      <td>0</td>\n",
       "    </tr>\n",
       "    <tr>\n",
       "      <th>2</th>\n",
       "      <td>502</td>\n",
       "      <td>France</td>\n",
       "      <td>Female</td>\n",
       "      <td>42</td>\n",
       "      <td>8</td>\n",
       "      <td>159660.80</td>\n",
       "      <td>3</td>\n",
       "      <td>1</td>\n",
       "      <td>0</td>\n",
       "      <td>113931.57</td>\n",
       "      <td>1</td>\n",
       "    </tr>\n",
       "    <tr>\n",
       "      <th>3</th>\n",
       "      <td>699</td>\n",
       "      <td>France</td>\n",
       "      <td>Female</td>\n",
       "      <td>39</td>\n",
       "      <td>1</td>\n",
       "      <td>0.00</td>\n",
       "      <td>2</td>\n",
       "      <td>0</td>\n",
       "      <td>0</td>\n",
       "      <td>93826.63</td>\n",
       "      <td>0</td>\n",
       "    </tr>\n",
       "    <tr>\n",
       "      <th>4</th>\n",
       "      <td>850</td>\n",
       "      <td>Spain</td>\n",
       "      <td>Female</td>\n",
       "      <td>43</td>\n",
       "      <td>2</td>\n",
       "      <td>125510.82</td>\n",
       "      <td>1</td>\n",
       "      <td>1</td>\n",
       "      <td>1</td>\n",
       "      <td>79084.10</td>\n",
       "      <td>0</td>\n",
       "    </tr>\n",
       "  </tbody>\n",
       "</table>\n",
       "</div>"
      ],
      "text/plain": [
       "   CreditScore Geography  Gender  Age  Tenure    Balance  NumOfProducts  \\\n",
       "0          619    France  Female   42       2       0.00              1   \n",
       "1          608     Spain  Female   41       1   83807.86              1   \n",
       "2          502    France  Female   42       8  159660.80              3   \n",
       "3          699    France  Female   39       1       0.00              2   \n",
       "4          850     Spain  Female   43       2  125510.82              1   \n",
       "\n",
       "   HasCrCard  IsActiveMember  EstimatedSalary  Exited  \n",
       "0          1               1        101348.88       1  \n",
       "1          0               1        112542.58       0  \n",
       "2          1               0        113931.57       1  \n",
       "3          0               0         93826.63       0  \n",
       "4          1               1         79084.10       0  "
      ]
     },
     "execution_count": 9,
     "metadata": {},
     "output_type": "execute_result"
    }
   ],
   "source": [
    "df.drop(['RowNumber','CustomerId','Surname'], axis='columns', inplace=True)\n",
    "df.head()"
   ]
  },
  {
   "cell_type": "code",
   "execution_count": 10,
   "id": "c7e882cf",
   "metadata": {},
   "outputs": [
    {
     "data": {
      "text/plain": [
       "(10000, 11)"
      ]
     },
     "execution_count": 10,
     "metadata": {},
     "output_type": "execute_result"
    }
   ],
   "source": [
    "df.shape"
   ]
  },
  {
   "cell_type": "code",
   "execution_count": 11,
   "id": "d711b1cd",
   "metadata": {},
   "outputs": [
    {
     "data": {
      "text/plain": [
       "CreditScore          int64\n",
       "Geography           object\n",
       "Gender              object\n",
       "Age                  int64\n",
       "Tenure               int64\n",
       "Balance            float64\n",
       "NumOfProducts        int64\n",
       "HasCrCard            int64\n",
       "IsActiveMember       int64\n",
       "EstimatedSalary    float64\n",
       "Exited               int64\n",
       "dtype: object"
      ]
     },
     "execution_count": 11,
     "metadata": {},
     "output_type": "execute_result"
    }
   ],
   "source": [
    "df.dtypes"
   ]
  },
  {
   "cell_type": "code",
   "execution_count": 13,
   "id": "479275cf",
   "metadata": {},
   "outputs": [
    {
     "data": {
      "text/plain": [
       "array(['France', 'Spain', 'Germany'], dtype=object)"
      ]
     },
     "execution_count": 13,
     "metadata": {},
     "output_type": "execute_result"
    }
   ],
   "source": [
    "df.Geography.unique()"
   ]
  },
  {
   "cell_type": "code",
   "execution_count": 42,
   "id": "1a2128d4",
   "metadata": {},
   "outputs": [
    {
     "data": {
      "image/png": "[encoded data removed]",
      "text/plain": [
       "<Figure size 432x288 with 1 Axes>"
      ]
     },
     "metadata": {},
     "output_type": "display_data"
    }
   ],
   "source": [
    "fr_exited = len(df[(df.Geography == 'France') & (df.Exited == 1)])\n",
    "sp_exited = len(df[(df.Geography == 'Spain') & (df.Exited == 1)])\n",
    "gr_exited = len(df[(df.Geography == 'Germany') & (df.Exited == 1)])\n",
    "\n",
    "plt.pie([fr_exited,sp_exited,gr_exited], labels=['France','Spain','Germany'],autopct='%1.1f%%')\n",
    "plt.show()"
   ]
  },
  {
   "cell_type": "code",
   "execution_count": 43,
   "id": "94a65781",
   "metadata": {},
   "outputs": [],
   "source": [
    "df.drop(['Geography'], axis='columns', inplace=True)"
   ]
  },
  {
   "cell_type": "code",
   "execution_count": 38,
   "id": "bb51909d",
   "metadata": {},
   "outputs": [
    {
     "data": {
      "image/png": "[encoded data removed]",
      "text/plain": [
       "<Figure size 432x288 with 1 Axes>"
      ]
     },
     "metadata": {
      "needs_background": "light"
     },
     "output_type": "display_data"
    }
   ],
   "source": [
    "age_exited_yes = df.Age[df.Exited == 1]\n",
    "age_exited_no = df.Age[df.Exited == 0]\n",
    "\n",
    "plt.xlabel('Age')\n",
    "plt.ylabel(\"No. of Customers\")\n",
    "plt.hist([age_exited_yes,age_exited_no], color=['green','red'], label=['Yes','No'])\n",
    "plt.legend()\n",
    "plt.show()"
   ]
  },
  {
   "cell_type": "code",
   "execution_count": 48,
   "id": "491bca9c",
   "metadata": {},
   "outputs": [
    {
     "data": {
      "image/png": "[encoded data removed]",
      "text/plain": [
       "<Figure size 432x288 with 1 Axes>"
      ]
     },
     "metadata": {
      "needs_background": "light"
     },
     "output_type": "display_data"
    }
   ],
   "source": [
    "products_exited_yes = df.NumOfProducts[df.Exited == 1]\n",
    "products_exited_no = df.NumOfProducts[df.Exited == 0]\n",
    "\n",
    "plt.xlabel('No. of Products')\n",
    "plt.ylabel(\"No. of Customers\")\n",
    "plt.hist([products_exited_yes,products_exited_no], color=['green','red'], label=['Yes','No'])\n",
    "plt.legend()\n",
    "plt.show()"
   ]
  },
  {
   "cell_type": "code",
   "execution_count": 45,
   "id": "59801cee",
   "metadata": {},
   "outputs": [
    {
     "data": {
      "image/png": "[encoded data removed]",
      "text/plain": [
       "<Figure size 432x288 with 1 Axes>"
      ]
     },
     "metadata": {
      "needs_background": "light"
     },
     "output_type": "display_data"
    }
   ],
   "source": [
    "tenure_exited_yes = df.Tenure[df.Exited == 1]\n",
    "tenure_exited_no = df.Tenure[df.Exited == 0]\n",
    "\n",
    "plt.xlabel('Tenure')\n",
    "plt.ylabel(\"No. of Customers\")\n",
    "plt.hist([tenure_exited_yes,tenure_exited_no], color=['green','red'], label=['Yes','No'])\n",
    "plt.legend()\n",
    "plt.show()"
   ]
  },
  {
   "cell_type": "code",
   "execution_count": 49,
   "id": "a41699ca",
   "metadata": {},
   "outputs": [
    {
     "data": {
      "image/png": "[encoded data removed]",
      "text/plain": [
       "<Figure size 432x288 with 1 Axes>"
      ]
     },
     "metadata": {
      "needs_background": "light"
     },
     "output_type": "display_data"
    }
   ],
   "source": [
    "crCard_exited_yes = df.HasCrCard[df.Exited == 1]\n",
    "crCard_exited_no = df.HasCrCard[df.Exited == 0]\n",
    "\n",
    "plt.xlabel('Has Credit Card')\n",
    "plt.ylabel(\"No. of Customers\")\n",
    "plt.hist([crCard_exited_yes,crCard_exited_no], color=['green','red'], label=['Yes','No'])\n",
    "plt.legend()\n",
    "plt.show()"
   ]
  },
  {
   "cell_type": "code",
   "execution_count": 50,
   "id": "d61d0ffb",
   "metadata": {},
   "outputs": [
    {
     "data": {
      "image/png": "[encoded data removed]",
      "text/plain": [
       "<Figure size 432x288 with 1 Axes>"
      ]
     },
     "metadata": {
      "needs_background": "light"
     },
     "output_type": "display_data"
    }
   ],
   "source": [
    "activeMem_exited_yes = df.IsActiveMember[df.Exited == 1]\n",
    "activeMem_exited_no = df.IsActiveMember[df.Exited == 0]\n",
    "\n",
    "plt.xlabel('Is Active Member')\n",
    "plt.ylabel(\"No. of Customers\")\n",
    "plt.hist([activeMem_exited_yes,activeMem_exited_no], color=['green','red'], label=['Yes','No'])\n",
    "plt.legend()\n",
    "plt.show()"
   ]
  },
  {
   "cell_type": "code",
   "execution_count": 47,
   "id": "e9fc4be4",
   "metadata": {},
   "outputs": [
    {
     "data": {
      "text/plain": [
       "CreditScore          int64\n",
       "Gender              object\n",
       "Age                  int64\n",
       "Tenure               int64\n",
       "Balance            float64\n",
       "NumOfProducts        int64\n",
       "HasCrCard            int64\n",
       "IsActiveMember       int64\n",
       "EstimatedSalary    float64\n",
       "Exited               int64\n",
       "dtype: object"
      ]
     },
     "execution_count": 47,
     "metadata": {},
     "output_type": "execute_result"
    }
   ],
   "source": [
    "df.dtypes"
   ]
  },
  {
   "cell_type": "code",
   "execution_count": 51,
   "id": "96e53820",
   "metadata": {},
   "outputs": [],
   "source": [
    "df.Gender.replace({'Male': 1, 'Female':0}, inplace=True)"
   ]
  },
  {
   "cell_type": "code",
   "execution_count": 52,
   "id": "faea2b87",
   "metadata": {},
   "outputs": [
    {
     "data": {
      "text/html": [
       "<div>\n",
       "<style scoped>\n",
       "    .dataframe tbody tr th:only-of-type {\n",
       "        vertical-align: middle;\n",
       "    }\n",
       "\n",
       "    .dataframe tbody tr th {\n",
       "        vertical-align: top;\n",
       "    }\n",
       "\n",
       "    .dataframe thead th {\n",
       "        text-align: right;\n",
       "    }\n",
       "</style>\n",
       "<table border=\"1\" class=\"dataframe\">\n",
       "  <thead>\n",
       "    <tr style=\"text-align: right;\">\n",
       "      <th></th>\n",
       "      <th>CreditScore</th>\n",
       "      <th>Gender</th>\n",
       "      <th>Age</th>\n",
       "      <th>Tenure</th>\n",
       "      <th>Balance</th>\n",
       "      <th>NumOfProducts</th>\n",
       "      <th>HasCrCard</th>\n",
       "      <th>IsActiveMember</th>\n",
       "      <th>EstimatedSalary</th>\n",
       "      <th>Exited</th>\n",
       "    </tr>\n",
       "  </thead>\n",
       "  <tbody>\n",
       "    <tr>\n",
       "      <th>0</th>\n",
       "      <td>619</td>\n",
       "      <td>0</td>\n",
       "      <td>42</td>\n",
       "      <td>2</td>\n",
       "      <td>0.00</td>\n",
       "      <td>1</td>\n",
       "      <td>1</td>\n",
       "      <td>1</td>\n",
       "      <td>101348.88</td>\n",
       "      <td>1</td>\n",
       "    </tr>\n",
       "    <tr>\n",
       "      <th>1</th>\n",
       "      <td>608</td>\n",
       "      <td>0</td>\n",
       "      <td>41</td>\n",
       "      <td>1</td>\n",
       "      <td>83807.86</td>\n",
       "      <td>1</td>\n",
       "      <td>0</td>\n",
       "      <td>1</td>\n",
       "      <td>112542.58</td>\n",
       "      <td>0</td>\n",
       "    </tr>\n",
       "    <tr>\n",
       "      <th>2</th>\n",
       "      <td>502</td>\n",
       "      <td>0</td>\n",
       "      <td>42</td>\n",
       "      <td>8</td>\n",
       "      <td>159660.80</td>\n",
       "      <td>3</td>\n",
       "      <td>1</td>\n",
       "      <td>0</td>\n",
       "      <td>113931.57</td>\n",
       "      <td>1</td>\n",
       "    </tr>\n",
       "    <tr>\n",
       "      <th>3</th>\n",
       "      <td>699</td>\n",
       "      <td>0</td>\n",
       "      <td>39</td>\n",
       "      <td>1</td>\n",
       "      <td>0.00</td>\n",
       "      <td>2</td>\n",
       "      <td>0</td>\n",
       "      <td>0</td>\n",
       "      <td>93826.63</td>\n",
       "      <td>0</td>\n",
       "    </tr>\n",
       "    <tr>\n",
       "      <th>4</th>\n",
       "      <td>850</td>\n",
       "      <td>0</td>\n",
       "      <td>43</td>\n",
       "      <td>2</td>\n",
       "      <td>125510.82</td>\n",
       "      <td>1</td>\n",
       "      <td>1</td>\n",
       "      <td>1</td>\n",
       "      <td>79084.10</td>\n",
       "      <td>0</td>\n",
       "    </tr>\n",
       "  </tbody>\n",
       "</table>\n",
       "</div>"
      ],
      "text/plain": [
       "   CreditScore  Gender  Age  Tenure    Balance  NumOfProducts  HasCrCard  \\\n",
       "0          619       0   42       2       0.00              1          1   \n",
       "1          608       0   41       1   83807.86              1          0   \n",
       "2          502       0   42       8  159660.80              3          1   \n",
       "3          699       0   39       1       0.00              2          0   \n",
       "4          850       0   43       2  125510.82              1          1   \n",
       "\n",
       "   IsActiveMember  EstimatedSalary  Exited  \n",
       "0               1        101348.88       1  \n",
       "1               1        112542.58       0  \n",
       "2               0        113931.57       1  \n",
       "3               0         93826.63       0  \n",
       "4               1         79084.10       0  "
      ]
     },
     "execution_count": 52,
     "metadata": {},
     "output_type": "execute_result"
    }
   ],
   "source": [
    "df.head()"
   ]
  },
  {
   "cell_type": "code",
   "execution_count": 53,
   "id": "17ebadf1",
   "metadata": {},
   "outputs": [
    {
     "data": {
      "text/plain": [
       "CreditScore        0\n",
       "Gender             0\n",
       "Age                0\n",
       "Tenure             0\n",
       "Balance            0\n",
       "NumOfProducts      0\n",
       "HasCrCard          0\n",
       "IsActiveMember     0\n",
       "EstimatedSalary    0\n",
       "Exited             0\n",
       "dtype: int64"
      ]
     },
     "execution_count": 53,
     "metadata": {},
     "output_type": "execute_result"
    }
   ],
   "source": [
    "df.isnull().sum()"
   ]
  },
  {
   "cell_type": "code",
   "execution_count": 54,
   "id": "aa008241",
   "metadata": {},
   "outputs": [
    {
     "data": {
      "text/html": [
       "<div>\n",
       "<style scoped>\n",
       "    .dataframe tbody tr th:only-of-type {\n",
       "        vertical-align: middle;\n",
       "    }\n",
       "\n",
       "    .dataframe tbody tr th {\n",
       "        vertical-align: top;\n",
       "    }\n",
       "\n",
       "    .dataframe thead th {\n",
       "        text-align: right;\n",
       "    }\n",
       "</style>\n",
       "<table border=\"1\" class=\"dataframe\">\n",
       "  <thead>\n",
       "    <tr style=\"text-align: right;\">\n",
       "      <th></th>\n",
       "      <th>CreditScore</th>\n",
       "      <th>Gender</th>\n",
       "      <th>Age</th>\n",
       "      <th>Tenure</th>\n",
       "      <th>Balance</th>\n",
       "      <th>NumOfProducts</th>\n",
       "      <th>HasCrCard</th>\n",
       "      <th>IsActiveMember</th>\n",
       "      <th>EstimatedSalary</th>\n",
       "      <th>Exited</th>\n",
       "    </tr>\n",
       "  </thead>\n",
       "  <tbody>\n",
       "    <tr>\n",
       "      <th>0</th>\n",
       "      <td>0.538</td>\n",
       "      <td>0</td>\n",
       "      <td>0.324324</td>\n",
       "      <td>0.2</td>\n",
       "      <td>0.000000</td>\n",
       "      <td>1</td>\n",
       "      <td>1</td>\n",
       "      <td>1</td>\n",
       "      <td>0.506735</td>\n",
       "      <td>1</td>\n",
       "    </tr>\n",
       "    <tr>\n",
       "      <th>1</th>\n",
       "      <td>0.516</td>\n",
       "      <td>0</td>\n",
       "      <td>0.310811</td>\n",
       "      <td>0.1</td>\n",
       "      <td>0.334031</td>\n",
       "      <td>1</td>\n",
       "      <td>0</td>\n",
       "      <td>1</td>\n",
       "      <td>0.562709</td>\n",
       "      <td>0</td>\n",
       "    </tr>\n",
       "    <tr>\n",
       "      <th>2</th>\n",
       "      <td>0.304</td>\n",
       "      <td>0</td>\n",
       "      <td>0.324324</td>\n",
       "      <td>0.8</td>\n",
       "      <td>0.636357</td>\n",
       "      <td>3</td>\n",
       "      <td>1</td>\n",
       "      <td>0</td>\n",
       "      <td>0.569654</td>\n",
       "      <td>1</td>\n",
       "    </tr>\n",
       "    <tr>\n",
       "      <th>3</th>\n",
       "      <td>0.698</td>\n",
       "      <td>0</td>\n",
       "      <td>0.283784</td>\n",
       "      <td>0.1</td>\n",
       "      <td>0.000000</td>\n",
       "      <td>2</td>\n",
       "      <td>0</td>\n",
       "      <td>0</td>\n",
       "      <td>0.469120</td>\n",
       "      <td>0</td>\n",
       "    </tr>\n",
       "    <tr>\n",
       "      <th>4</th>\n",
       "      <td>1.000</td>\n",
       "      <td>0</td>\n",
       "      <td>0.337838</td>\n",
       "      <td>0.2</td>\n",
       "      <td>0.500246</td>\n",
       "      <td>1</td>\n",
       "      <td>1</td>\n",
       "      <td>1</td>\n",
       "      <td>0.395400</td>\n",
       "      <td>0</td>\n",
       "    </tr>\n",
       "  </tbody>\n",
       "</table>\n",
       "</div>"
      ],
      "text/plain": [
       "   CreditScore  Gender       Age  Tenure   Balance  NumOfProducts  HasCrCard  \\\n",
       "0        0.538       0  0.324324     0.2  0.000000              1          1   \n",
       "1        0.516       0  0.310811     0.1  0.334031              1          0   \n",
       "2        0.304       0  0.324324     0.8  0.636357              3          1   \n",
       "3        0.698       0  0.283784     0.1  0.000000              2          0   \n",
       "4        1.000       0  0.337838     0.2  0.500246              1          1   \n",
       "\n",
       "   IsActiveMember  EstimatedSalary  Exited  \n",
       "0               1         0.506735       1  \n",
       "1               1         0.562709       0  \n",
       "2               0         0.569654       1  \n",
       "3               0         0.469120       0  \n",
       "4               1         0.395400       0  "
      ]
     },
     "execution_count": 54,
     "metadata": {},
     "output_type": "execute_result"
    }
   ],
   "source": [
    "cols_to_scale = ['CreditScore','Balance','EstimatedSalary','Age','Tenure']\n",
    "from sklearn.preprocessing import MinMaxScaler\n",
    "scaler = MinMaxScaler()\n",
    "df[cols_to_scale] = scaler.fit_transform(df[cols_to_scale])\n",
    "df.head()\n"
   ]
  },
  {
   "cell_type": "code",
   "execution_count": 55,
   "id": "9ed36c51",
   "metadata": {},
   "outputs": [],
   "source": [
    "X = df.drop(['Exited'], axis='columns')\n",
    "y = df.Exited\n",
    "\n",
    "from sklearn.model_selection import train_test_split\n",
    "\n",
    "X_train, X_test, y_train, y_test = train_test_split(X,y, test_size=0.3, random_state=5)"
   ]
  },
  {
   "cell_type": "code",
   "execution_count": 81,
   "id": "c57606f7",
   "metadata": {},
   "outputs": [
    {
     "name": "stdout",
     "output_type": "stream",
     "text": [
      "Epoch 1/200\n",
      "219/219 [==============================] - 1s 1ms/step - loss: 0.5766 - accuracy: 0.7189\n",
      "Epoch 2/200\n",
      "219/219 [==============================] - 0s 979us/step - loss: 0.4991 - accuracy: 0.7944\n",
      "Epoch 3/200\n",
      "219/219 [==============================] - 0s 1ms/step - loss: 0.4800 - accuracy: 0.7954\n",
      "Epoch 4/200\n",
      "219/219 [==============================] - 0s 1ms/step - loss: 0.4682 - accuracy: 0.7961\n",
      "Epoch 5/200\n",
      "219/219 [==============================] - 0s 1ms/step - loss: 0.4601 - accuracy: 0.8019\n",
      "Epoch 6/200\n",
      "219/219 [==============================] - 0s 1ms/step - loss: 0.4540 - accuracy: 0.8037\n",
      "Epoch 7/200\n",
      "219/219 [==============================] - 0s 2ms/step - loss: 0.4492 - accuracy: 0.8060\n",
      "Epoch 8/200\n",
      "219/219 [==============================] - 0s 1ms/step - loss: 0.4449 - accuracy: 0.8080\n",
      "Epoch 9/200\n",
      "219/219 [==============================] - 1s 3ms/step - loss: 0.4415 - accuracy: 0.8083\n",
      "Epoch 10/200\n",
      "219/219 [==============================] - 1s 3ms/step - loss: 0.4383 - accuracy: 0.8111\n",
      "Epoch 11/200\n",
      "219/219 [==============================] - 0s 2ms/step - loss: 0.4353 - accuracy: 0.8121\n",
      "Epoch 12/200\n",
      "219/219 [==============================] - 0s 2ms/step - loss: 0.4326 - accuracy: 0.8137\n",
      "Epoch 13/200\n",
      "219/219 [==============================] - 0s 1ms/step - loss: 0.4306 - accuracy: 0.8157\n",
      "Epoch 14/200\n",
      "219/219 [==============================] - 0s 1ms/step - loss: 0.4280 - accuracy: 0.8157\n",
      "Epoch 15/200\n",
      "219/219 [==============================] - 0s 2ms/step - loss: 0.4260 - accuracy: 0.8167\n",
      "Epoch 16/200\n",
      "219/219 [==============================] - 0s 2ms/step - loss: 0.4238 - accuracy: 0.8176\n",
      "Epoch 17/200\n",
      "219/219 [==============================] - 0s 1ms/step - loss: 0.4221 - accuracy: 0.8186\n",
      "Epoch 18/200\n",
      "219/219 [==============================] - 0s 1ms/step - loss: 0.4200 - accuracy: 0.8196\n",
      "Epoch 19/200\n",
      "219/219 [==============================] - 0s 2ms/step - loss: 0.4177 - accuracy: 0.8179\n",
      "Epoch 20/200\n",
      "219/219 [==============================] - 1s 2ms/step - loss: 0.4160 - accuracy: 0.8206\n",
      "Epoch 21/200\n",
      "219/219 [==============================] - 1s 3ms/step - loss: 0.4139 - accuracy: 0.8233\n",
      "Epoch 22/200\n",
      "219/219 [==============================] - 0s 2ms/step - loss: 0.4134 - accuracy: 0.8191\n",
      "Epoch 23/200\n",
      "219/219 [==============================] - 0s 2ms/step - loss: 0.4111 - accuracy: 0.8227\n",
      "Epoch 24/200\n",
      "219/219 [==============================] - 0s 1ms/step - loss: 0.4096 - accuracy: 0.8210\n",
      "Epoch 25/200\n",
      "219/219 [==============================] - 0s 1ms/step - loss: 0.4081 - accuracy: 0.8227\n",
      "Epoch 26/200\n",
      "219/219 [==============================] - 0s 1ms/step - loss: 0.4066 - accuracy: 0.8236\n",
      "Epoch 27/200\n",
      "219/219 [==============================] - 0s 1ms/step - loss: 0.4052 - accuracy: 0.8260\n",
      "Epoch 28/200\n",
      "219/219 [==============================] - 0s 1ms/step - loss: 0.4038 - accuracy: 0.8271\n",
      "Epoch 29/200\n",
      "219/219 [==============================] - 0s 2ms/step - loss: 0.4022 - accuracy: 0.8273\n",
      "Epoch 30/200\n",
      "219/219 [==============================] - 0s 1ms/step - loss: 0.4011 - accuracy: 0.8300\n",
      "Epoch 31/200\n",
      "219/219 [==============================] - 0s 1ms/step - loss: 0.3999 - accuracy: 0.8300\n",
      "Epoch 32/200\n",
      "219/219 [==============================] - 0s 2ms/step - loss: 0.3985 - accuracy: 0.8283\n",
      "Epoch 33/200\n",
      "219/219 [==============================] - 0s 1ms/step - loss: 0.3979 - accuracy: 0.8296\n",
      "Epoch 34/200\n",
      "219/219 [==============================] - 0s 2ms/step - loss: 0.3969 - accuracy: 0.8301\n",
      "Epoch 35/200\n",
      "219/219 [==============================] - 0s 2ms/step - loss: 0.3952 - accuracy: 0.8300\n",
      "Epoch 36/200\n",
      "219/219 [==============================] - 0s 1ms/step - loss: 0.3944 - accuracy: 0.8334\n",
      "Epoch 37/200\n",
      "219/219 [==============================] - 0s 1ms/step - loss: 0.3936 - accuracy: 0.8319\n",
      "Epoch 38/200\n",
      "219/219 [==============================] - 0s 1ms/step - loss: 0.3928 - accuracy: 0.8346\n",
      "Epoch 39/200\n",
      "219/219 [==============================] - 0s 1ms/step - loss: 0.3920 - accuracy: 0.8324\n",
      "Epoch 40/200\n",
      "219/219 [==============================] - 0s 1ms/step - loss: 0.3913 - accuracy: 0.8336\n",
      "Epoch 41/200\n",
      "219/219 [==============================] - 0s 1ms/step - loss: 0.3903 - accuracy: 0.8341\n",
      "Epoch 42/200\n",
      "219/219 [==============================] - 0s 1ms/step - loss: 0.3898 - accuracy: 0.8356\n",
      "Epoch 43/200\n",
      "219/219 [==============================] - 0s 1ms/step - loss: 0.3887 - accuracy: 0.8341\n",
      "Epoch 44/200\n",
      "219/219 [==============================] - 0s 1ms/step - loss: 0.3880 - accuracy: 0.8353\n",
      "Epoch 45/200\n",
      "219/219 [==============================] - 0s 1ms/step - loss: 0.3879 - accuracy: 0.8339\n",
      "Epoch 46/200\n",
      "219/219 [==============================] - 0s 1ms/step - loss: 0.3869 - accuracy: 0.8367\n",
      "Epoch 47/200\n",
      "219/219 [==============================] - 0s 1ms/step - loss: 0.3860 - accuracy: 0.8351\n",
      "Epoch 48/200\n",
      "219/219 [==============================] - ETA: 0s - loss: 0.3840 - accuracy: 0.83 - 0s 1ms/step - loss: 0.3856 - accuracy: 0.8354\n",
      "Epoch 49/200\n",
      "219/219 [==============================] - 0s 2ms/step - loss: 0.3850 - accuracy: 0.8370\n",
      "Epoch 50/200\n",
      "219/219 [==============================] - 0s 1ms/step - loss: 0.3845 - accuracy: 0.8361\n",
      "Epoch 51/200\n",
      "219/219 [==============================] - 0s 1ms/step - loss: 0.3840 - accuracy: 0.8384\n",
      "Epoch 52/200\n",
      "219/219 [==============================] - 0s 1ms/step - loss: 0.3834 - accuracy: 0.8381\n",
      "Epoch 53/200\n",
      "219/219 [==============================] - 0s 1ms/step - loss: 0.3828 - accuracy: 0.8379: 0s - loss: 0.3974 - accuracy: \n",
      "Epoch 54/200\n",
      "219/219 [==============================] - 0s 1ms/step - loss: 0.3829 - accuracy: 0.8396\n",
      "Epoch 55/200\n",
      "219/219 [==============================] - 0s 1ms/step - loss: 0.3817 - accuracy: 0.8400\n",
      "Epoch 56/200\n",
      "219/219 [==============================] - 0s 1ms/step - loss: 0.3816 - accuracy: 0.8376\n",
      "Epoch 57/200\n",
      "219/219 [==============================] - 0s 979us/step - loss: 0.3814 - accuracy: 0.8380\n",
      "Epoch 58/200\n",
      "219/219 [==============================] - 0s 968us/step - loss: 0.3808 - accuracy: 0.8371\n",
      "Epoch 59/200\n",
      "219/219 [==============================] - 0s 1ms/step - loss: 0.3802 - accuracy: 0.8391\n",
      "Epoch 60/200\n",
      "219/219 [==============================] - 0s 1ms/step - loss: 0.3800 - accuracy: 0.8381\n",
      "Epoch 61/200\n",
      "219/219 [==============================] - 0s 979us/step - loss: 0.3792 - accuracy: 0.8387\n",
      "Epoch 62/200\n",
      "219/219 [==============================] - 0s 1ms/step - loss: 0.3794 - accuracy: 0.8397\n",
      "Epoch 63/200\n",
      "219/219 [==============================] - 0s 1ms/step - loss: 0.3790 - accuracy: 0.8399\n",
      "Epoch 64/200\n",
      "219/219 [==============================] - 0s 1ms/step - loss: 0.3787 - accuracy: 0.8381\n",
      "Epoch 65/200\n",
      "219/219 [==============================] - 0s 977us/step - loss: 0.3782 - accuracy: 0.8380\n",
      "Epoch 66/200\n",
      "219/219 [==============================] - 0s 1ms/step - loss: 0.3781 - accuracy: 0.8386\n",
      "Epoch 67/200\n",
      "219/219 [==============================] - 0s 1ms/step - loss: 0.3780 - accuracy: 0.8401\n",
      "Epoch 68/200\n",
      "219/219 [==============================] - 0s 1ms/step - loss: 0.3776 - accuracy: 0.8407\n",
      "Epoch 69/200\n",
      "219/219 [==============================] - 0s 1ms/step - loss: 0.3772 - accuracy: 0.8414\n",
      "Epoch 70/200\n",
      "219/219 [==============================] - 0s 991us/step - loss: 0.3770 - accuracy: 0.8404\n",
      "Epoch 71/200\n",
      "219/219 [==============================] - 0s 989us/step - loss: 0.3765 - accuracy: 0.8387\n",
      "Epoch 72/200\n",
      "219/219 [==============================] - 0s 1ms/step - loss: 0.3761 - accuracy: 0.8421\n",
      "Epoch 73/200\n",
      "219/219 [==============================] - 0s 1ms/step - loss: 0.3768 - accuracy: 0.8409\n",
      "Epoch 74/200\n",
      "219/219 [==============================] - 0s 1ms/step - loss: 0.3755 - accuracy: 0.8414\n",
      "Epoch 75/200\n",
      "219/219 [==============================] - 0s 1ms/step - loss: 0.3761 - accuracy: 0.8407\n",
      "Epoch 76/200\n",
      "219/219 [==============================] - 0s 1ms/step - loss: 0.3759 - accuracy: 0.8396\n",
      "Epoch 77/200\n",
      "219/219 [==============================] - 0s 1ms/step - loss: 0.3755 - accuracy: 0.8400\n",
      "Epoch 78/200\n",
      "219/219 [==============================] - 0s 1ms/step - loss: 0.3755 - accuracy: 0.8419\n",
      "Epoch 79/200\n",
      "219/219 [==============================] - 0s 1ms/step - loss: 0.3754 - accuracy: 0.8403\n",
      "Epoch 80/200\n",
      "219/219 [==============================] - 0s 1ms/step - loss: 0.3744 - accuracy: 0.8431\n",
      "Epoch 81/200\n",
      "219/219 [==============================] - 0s 1ms/step - loss: 0.3749 - accuracy: 0.8424\n",
      "Epoch 82/200\n",
      "219/219 [==============================] - 0s 1ms/step - loss: 0.3748 - accuracy: 0.8423\n",
      "Epoch 83/200\n",
      "219/219 [==============================] - 0s 1ms/step - loss: 0.3741 - accuracy: 0.8406\n",
      "Epoch 84/200\n",
      "219/219 [==============================] - 0s 1ms/step - loss: 0.3746 - accuracy: 0.8409\n",
      "Epoch 85/200\n",
      "219/219 [==============================] - 0s 965us/step - loss: 0.3745 - accuracy: 0.8419\n",
      "Epoch 86/200\n",
      "219/219 [==============================] - 0s 1ms/step - loss: 0.3738 - accuracy: 0.8401\n",
      "Epoch 87/200\n",
      "219/219 [==============================] - 0s 1ms/step - loss: 0.3740 - accuracy: 0.8414\n",
      "Epoch 88/200\n",
      "219/219 [==============================] - 0s 1ms/step - loss: 0.3738 - accuracy: 0.8409\n",
      "Epoch 89/200\n",
      "219/219 [==============================] - 0s 1ms/step - loss: 0.3736 - accuracy: 0.8420\n",
      "Epoch 90/200\n",
      "219/219 [==============================] - 0s 1ms/step - loss: 0.3736 - accuracy: 0.8426\n",
      "Epoch 91/200\n",
      "219/219 [==============================] - 0s 1ms/step - loss: 0.3734 - accuracy: 0.8416\n",
      "Epoch 92/200\n",
      "219/219 [==============================] - ETA: 0s - loss: 0.3740 - accuracy: 0.84 - 0s 1ms/step - loss: 0.3732 - accuracy: 0.8424\n",
      "Epoch 93/200\n",
      "219/219 [==============================] - 0s 1ms/step - loss: 0.3735 - accuracy: 0.8416\n",
      "Epoch 94/200\n",
      "219/219 [==============================] - 0s 1ms/step - loss: 0.3723 - accuracy: 0.8430\n",
      "Epoch 95/200\n",
      "219/219 [==============================] - 0s 1ms/step - loss: 0.3731 - accuracy: 0.8439\n",
      "Epoch 96/200\n",
      "219/219 [==============================] - 0s 1ms/step - loss: 0.3727 - accuracy: 0.8424\n",
      "Epoch 97/200\n",
      "219/219 [==============================] - 0s 1ms/step - loss: 0.3723 - accuracy: 0.8417\n",
      "Epoch 98/200\n",
      "219/219 [==============================] - 0s 1ms/step - loss: 0.3729 - accuracy: 0.8406\n",
      "Epoch 99/200\n",
      "219/219 [==============================] - 0s 1ms/step - loss: 0.3728 - accuracy: 0.8427\n",
      "Epoch 100/200\n",
      "219/219 [==============================] - 0s 1ms/step - loss: 0.3727 - accuracy: 0.8426\n",
      "Epoch 101/200\n",
      "219/219 [==============================] - 0s 1ms/step - loss: 0.3721 - accuracy: 0.8419\n",
      "Epoch 102/200\n",
      "219/219 [==============================] - 0s 1ms/step - loss: 0.3720 - accuracy: 0.8433\n",
      "Epoch 103/200\n",
      "219/219 [==============================] - 0s 1ms/step - loss: 0.3724 - accuracy: 0.8423\n",
      "Epoch 104/200\n",
      "219/219 [==============================] - 0s 1ms/step - loss: 0.3722 - accuracy: 0.8436\n",
      "Epoch 105/200\n",
      "219/219 [==============================] - 0s 1ms/step - loss: 0.3719 - accuracy: 0.8447\n",
      "Epoch 106/200\n",
      "219/219 [==============================] - 0s 1ms/step - loss: 0.3725 - accuracy: 0.8420\n",
      "Epoch 107/200\n",
      "219/219 [==============================] - 0s 1ms/step - loss: 0.3715 - accuracy: 0.8416\n",
      "Epoch 108/200\n",
      "219/219 [==============================] - 0s 1ms/step - loss: 0.3721 - accuracy: 0.8430\n",
      "Epoch 109/200\n",
      "219/219 [==============================] - 0s 1ms/step - loss: 0.3721 - accuracy: 0.8421\n",
      "Epoch 110/200\n",
      "219/219 [==============================] - 0s 1ms/step - loss: 0.3716 - accuracy: 0.8443\n",
      "Epoch 111/200\n",
      "219/219 [==============================] - 0s 1ms/step - loss: 0.3713 - accuracy: 0.8439: 0s - loss: 0.3786 - accuracy\n",
      "Epoch 112/200\n",
      "219/219 [==============================] - 0s 1ms/step - loss: 0.3713 - accuracy: 0.8416\n",
      "Epoch 113/200\n",
      "219/219 [==============================] - 0s 1ms/step - loss: 0.3716 - accuracy: 0.8441\n",
      "Epoch 114/200\n",
      "219/219 [==============================] - 0s 1ms/step - loss: 0.3713 - accuracy: 0.8429\n",
      "Epoch 115/200\n",
      "219/219 [==============================] - 0s 1ms/step - loss: 0.3712 - accuracy: 0.8433\n",
      "Epoch 116/200\n",
      "219/219 [==============================] - 0s 1ms/step - loss: 0.3715 - accuracy: 0.8449\n",
      "Epoch 117/200\n",
      "219/219 [==============================] - 0s 1ms/step - loss: 0.3713 - accuracy: 0.8427\n",
      "Epoch 118/200\n",
      "219/219 [==============================] - 0s 1ms/step - loss: 0.3710 - accuracy: 0.8439\n",
      "Epoch 119/200\n",
      "219/219 [==============================] - 0s 1ms/step - loss: 0.3707 - accuracy: 0.8433\n",
      "Epoch 120/200\n",
      "219/219 [==============================] - 0s 1ms/step - loss: 0.3701 - accuracy: 0.8429\n",
      "Epoch 121/200\n",
      "219/219 [==============================] - 0s 1ms/step - loss: 0.3704 - accuracy: 0.8443\n",
      "Epoch 122/200\n",
      "219/219 [==============================] - 0s 1ms/step - loss: 0.3703 - accuracy: 0.8433\n",
      "Epoch 123/200\n",
      "219/219 [==============================] - 0s 1ms/step - loss: 0.3700 - accuracy: 0.8461\n",
      "Epoch 124/200\n",
      "219/219 [==============================] - 0s 1ms/step - loss: 0.3693 - accuracy: 0.8449\n",
      "Epoch 125/200\n",
      "219/219 [==============================] - 0s 1ms/step - loss: 0.3693 - accuracy: 0.8446\n",
      "Epoch 126/200\n",
      "219/219 [==============================] - 0s 1ms/step - loss: 0.3692 - accuracy: 0.8444\n",
      "Epoch 127/200\n",
      "219/219 [==============================] - 0s 1ms/step - loss: 0.3694 - accuracy: 0.8450\n",
      "Epoch 128/200\n",
      "219/219 [==============================] - 0s 1ms/step - loss: 0.3688 - accuracy: 0.8436\n",
      "Epoch 129/200\n",
      "219/219 [==============================] - 0s 1ms/step - loss: 0.3684 - accuracy: 0.8454\n",
      "Epoch 130/200\n",
      "219/219 [==============================] - 0s 1ms/step - loss: 0.3679 - accuracy: 0.8436\n",
      "Epoch 131/200\n",
      "219/219 [==============================] - 0s 1ms/step - loss: 0.3680 - accuracy: 0.8450\n",
      "Epoch 132/200\n",
      "219/219 [==============================] - 0s 1ms/step - loss: 0.3676 - accuracy: 0.8440\n",
      "Epoch 133/200\n",
      "219/219 [==============================] - 0s 1ms/step - loss: 0.3670 - accuracy: 0.8459\n",
      "Epoch 134/200\n",
      "219/219 [==============================] - 0s 1ms/step - loss: 0.3674 - accuracy: 0.8441\n",
      "Epoch 135/200\n",
      "219/219 [==============================] - 0s 1ms/step - loss: 0.3669 - accuracy: 0.8457\n",
      "Epoch 136/200\n",
      "219/219 [==============================] - 0s 1ms/step - loss: 0.3666 - accuracy: 0.8450\n",
      "Epoch 137/200\n",
      "219/219 [==============================] - 0s 1ms/step - loss: 0.3664 - accuracy: 0.8467\n",
      "Epoch 138/200\n",
      "219/219 [==============================] - 0s 1ms/step - loss: 0.3661 - accuracy: 0.8470\n",
      "Epoch 139/200\n",
      "219/219 [==============================] - 0s 2ms/step - loss: 0.3657 - accuracy: 0.8446\n",
      "Epoch 140/200\n",
      "219/219 [==============================] - 0s 1ms/step - loss: 0.3663 - accuracy: 0.8454\n",
      "Epoch 141/200\n",
      "219/219 [==============================] - 0s 1ms/step - loss: 0.3649 - accuracy: 0.8459\n",
      "Epoch 142/200\n",
      "219/219 [==============================] - 0s 1ms/step - loss: 0.3650 - accuracy: 0.8476\n",
      "Epoch 143/200\n",
      "219/219 [==============================] - 0s 1ms/step - loss: 0.3649 - accuracy: 0.8477\n",
      "Epoch 144/200\n",
      "219/219 [==============================] - 0s 997us/step - loss: 0.3645 - accuracy: 0.8453\n",
      "Epoch 145/200\n",
      "219/219 [==============================] - 0s 1ms/step - loss: 0.3642 - accuracy: 0.8467\n",
      "Epoch 146/200\n",
      "219/219 [==============================] - 0s 993us/step - loss: 0.3641 - accuracy: 0.8469\n",
      "Epoch 147/200\n",
      "219/219 [==============================] - 0s 1ms/step - loss: 0.3634 - accuracy: 0.8466\n",
      "Epoch 148/200\n",
      "219/219 [==============================] - 0s 1ms/step - loss: 0.3635 - accuracy: 0.8457\n",
      "Epoch 149/200\n",
      "219/219 [==============================] - 0s 1ms/step - loss: 0.3631 - accuracy: 0.8466\n",
      "Epoch 150/200\n",
      "219/219 [==============================] - 0s 1ms/step - loss: 0.3630 - accuracy: 0.8454\n",
      "Epoch 151/200\n",
      "219/219 [==============================] - 0s 1ms/step - loss: 0.3628 - accuracy: 0.8470\n",
      "Epoch 152/200\n",
      "219/219 [==============================] - 0s 1ms/step - loss: 0.3624 - accuracy: 0.8469\n",
      "Epoch 153/200\n",
      "219/219 [==============================] - 0s 1ms/step - loss: 0.3620 - accuracy: 0.8463\n",
      "Epoch 154/200\n",
      "219/219 [==============================] - 0s 1ms/step - loss: 0.3621 - accuracy: 0.8484\n",
      "Epoch 155/200\n",
      "219/219 [==============================] - 0s 1ms/step - loss: 0.3616 - accuracy: 0.8459\n",
      "Epoch 156/200\n",
      "219/219 [==============================] - 0s 1ms/step - loss: 0.3613 - accuracy: 0.8483\n",
      "Epoch 157/200\n",
      "219/219 [==============================] - 0s 1ms/step - loss: 0.3613 - accuracy: 0.8483\n",
      "Epoch 158/200\n",
      "219/219 [==============================] - 0s 1ms/step - loss: 0.3612 - accuracy: 0.8474\n",
      "Epoch 159/200\n"
     ]
    },
    {
     "name": "stdout",
     "output_type": "stream",
     "text": [
      "219/219 [==============================] - 0s 1ms/step - loss: 0.3608 - accuracy: 0.8480\n",
      "Epoch 160/200\n",
      "219/219 [==============================] - 0s 1ms/step - loss: 0.3605 - accuracy: 0.8477\n",
      "Epoch 161/200\n",
      "219/219 [==============================] - 0s 1ms/step - loss: 0.3610 - accuracy: 0.8486\n",
      "Epoch 162/200\n",
      "219/219 [==============================] - 0s 1ms/step - loss: 0.3598 - accuracy: 0.8479\n",
      "Epoch 163/200\n",
      "219/219 [==============================] - 0s 970us/step - loss: 0.3601 - accuracy: 0.8491\n",
      "Epoch 164/200\n",
      "219/219 [==============================] - 0s 988us/step - loss: 0.3598 - accuracy: 0.8501\n",
      "Epoch 165/200\n",
      "219/219 [==============================] - 0s 1ms/step - loss: 0.3596 - accuracy: 0.8496\n",
      "Epoch 166/200\n",
      "219/219 [==============================] - 0s 1ms/step - loss: 0.3594 - accuracy: 0.8501\n",
      "Epoch 167/200\n",
      "219/219 [==============================] - 0s 1ms/step - loss: 0.3592 - accuracy: 0.8491\n",
      "Epoch 168/200\n",
      "219/219 [==============================] - 0s 1ms/step - loss: 0.3593 - accuracy: 0.8494\n",
      "Epoch 169/200\n",
      "219/219 [==============================] - 0s 915us/step - loss: 0.3591 - accuracy: 0.8486\n",
      "Epoch 170/200\n",
      "219/219 [==============================] - 0s 938us/step - loss: 0.3585 - accuracy: 0.8509\n",
      "Epoch 171/200\n",
      "219/219 [==============================] - 0s 920us/step - loss: 0.3589 - accuracy: 0.8497\n",
      "Epoch 172/200\n",
      "219/219 [==============================] - 0s 906us/step - loss: 0.3589 - accuracy: 0.8501\n",
      "Epoch 173/200\n",
      "219/219 [==============================] - 0s 972us/step - loss: 0.3584 - accuracy: 0.8493\n",
      "Epoch 174/200\n",
      "219/219 [==============================] - 0s 954us/step - loss: 0.3583 - accuracy: 0.8516\n",
      "Epoch 175/200\n",
      "219/219 [==============================] - 0s 956us/step - loss: 0.3585 - accuracy: 0.8504\n",
      "Epoch 176/200\n",
      "219/219 [==============================] - 0s 929us/step - loss: 0.3586 - accuracy: 0.8511\n",
      "Epoch 177/200\n",
      "219/219 [==============================] - 0s 915us/step - loss: 0.3576 - accuracy: 0.8503\n",
      "Epoch 178/200\n",
      "219/219 [==============================] - 0s 1ms/step - loss: 0.3581 - accuracy: 0.8510\n",
      "Epoch 179/200\n",
      "219/219 [==============================] - 0s 1ms/step - loss: 0.3581 - accuracy: 0.8507\n",
      "Epoch 180/200\n",
      "219/219 [==============================] - 0s 2ms/step - loss: 0.3575 - accuracy: 0.8496\n",
      "Epoch 181/200\n",
      "219/219 [==============================] - 0s 1ms/step - loss: 0.3584 - accuracy: 0.8504\n",
      "Epoch 182/200\n",
      "219/219 [==============================] - 0s 1ms/step - loss: 0.3579 - accuracy: 0.8506\n",
      "Epoch 183/200\n",
      "219/219 [==============================] - 0s 947us/step - loss: 0.3573 - accuracy: 0.8510\n",
      "Epoch 184/200\n",
      "219/219 [==============================] - 0s 1ms/step - loss: 0.3575 - accuracy: 0.8514\n",
      "Epoch 185/200\n",
      "219/219 [==============================] - 0s 1ms/step - loss: 0.3573 - accuracy: 0.8506\n",
      "Epoch 186/200\n",
      "219/219 [==============================] - 0s 1ms/step - loss: 0.3577 - accuracy: 0.8516\n",
      "Epoch 187/200\n",
      "219/219 [==============================] - 0s 1ms/step - loss: 0.3571 - accuracy: 0.8529\n",
      "Epoch 188/200\n",
      "219/219 [==============================] - 0s 1ms/step - loss: 0.3572 - accuracy: 0.8523\n",
      "Epoch 189/200\n",
      "219/219 [==============================] - 0s 974us/step - loss: 0.3575 - accuracy: 0.8509\n",
      "Epoch 190/200\n",
      "219/219 [==============================] - 0s 1ms/step - loss: 0.3575 - accuracy: 0.8517\n",
      "Epoch 191/200\n",
      "219/219 [==============================] - 0s 952us/step - loss: 0.3572 - accuracy: 0.8510\n",
      "Epoch 192/200\n",
      "219/219 [==============================] - 0s 1ms/step - loss: 0.3571 - accuracy: 0.8537\n",
      "Epoch 193/200\n",
      "219/219 [==============================] - 0s 1ms/step - loss: 0.3571 - accuracy: 0.8523\n",
      "Epoch 194/200\n",
      "219/219 [==============================] - 0s 1ms/step - loss: 0.3568 - accuracy: 0.8524\n",
      "Epoch 195/200\n",
      "219/219 [==============================] - 0s 1ms/step - loss: 0.3566 - accuracy: 0.8516\n",
      "Epoch 196/200\n",
      "219/219 [==============================] - 0s 1ms/step - loss: 0.3572 - accuracy: 0.8524\n",
      "Epoch 197/200\n",
      "219/219 [==============================] - 0s 1ms/step - loss: 0.3571 - accuracy: 0.8511\n",
      "Epoch 198/200\n",
      "219/219 [==============================] - 0s 1ms/step - loss: 0.3566 - accuracy: 0.8523\n",
      "Epoch 199/200\n",
      "219/219 [==============================] - 0s 1ms/step - loss: 0.3566 - accuracy: 0.8529\n",
      "Epoch 200/200\n",
      "219/219 [==============================] - 0s 1ms/step - loss: 0.3566 - accuracy: 0.8509\n"
     ]
    },
    {
     "data": {
      "text/plain": [
       "<tensorflow.python.keras.callbacks.History at 0x21bdb944550>"
      ]
     },
     "execution_count": 81,
     "metadata": {},
     "output_type": "execute_result"
    }
   ],
   "source": [
    "model = keras.Sequential([\n",
    "    keras.layers.Dense(9, input_shape=(9,),activation='relu'),\n",
    "    keras.layers.Dense(1, activation='sigmoid')\n",
    "])\n",
    "\n",
    "model.compile( optimizer='adam',\n",
    "             loss='binary_crossentropy',\n",
    "             metrics=['accuracy'])\n",
    "\n",
    "model.fit(X_train, y_train, epochs=200)"
   ]
  },
  {
   "cell_type": "code",
   "execution_count": 82,
   "id": "848a4ff8",
   "metadata": {},
   "outputs": [
    {
     "name": "stdout",
     "output_type": "stream",
     "text": [
      "94/94 [==============================] - 0s 860us/step - loss: 0.3650 - accuracy: 0.8537\n"
     ]
    },
    {
     "data": {
      "text/plain": [
       "[0.3649669289588928, 0.8536666631698608]"
      ]
     },
     "execution_count": 82,
     "metadata": {},
     "output_type": "execute_result"
    }
   ],
   "source": [
    "model.evaluate(X_test,y_test)"
   ]
  },
  {
   "cell_type": "code",
   "execution_count": 83,
   "id": "30e3bd66",
   "metadata": {},
   "outputs": [
    {
     "data": {
      "text/plain": [
       "array([[0.02182168],\n",
       "       [0.07603955],\n",
       "       [0.14344764],\n",
       "       ...,\n",
       "       [0.01727927],\n",
       "       [0.00684249],\n",
       "       [0.12182131]], dtype=float32)"
      ]
     },
     "execution_count": 83,
     "metadata": {},
     "output_type": "execute_result"
    }
   ],
   "source": [
    "y_pred = model.predict(X_test)\n",
    "y_pred"
   ]
  },
  {
   "cell_type": "code",
   "execution_count": 84,
   "id": "057ab4d1",
   "metadata": {},
   "outputs": [],
   "source": [
    "y_preds = []\n",
    "for y in y_pred:\n",
    "    if y>0.5:\n",
    "        y_preds.append(1)\n",
    "    else:\n",
    "        y_preds.append(0)"
   ]
  },
  {
   "cell_type": "code",
   "execution_count": 85,
   "id": "325ecb3b",
   "metadata": {},
   "outputs": [
    {
     "name": "stdout",
     "output_type": "stream",
     "text": [
      "              precision    recall  f1-score   support\n",
      "\n",
      "           0       0.87      0.96      0.91      2403\n",
      "           1       0.74      0.41      0.53       597\n",
      "\n",
      "    accuracy                           0.85      3000\n",
      "   macro avg       0.80      0.69      0.72      3000\n",
      "weighted avg       0.84      0.85      0.84      3000\n",
      "\n"
     ]
    }
   ],
   "source": [
    "from sklearn.metrics import classification_report\n",
    "print(classification_report(y_test,y_preds))"
   ]
  },
  {
   "cell_type": "code",
   "execution_count": 86,
   "id": "600cfdc0",
   "metadata": {},
   "outputs": [
    {
     "data": {
      "text/plain": [
       "<tf.Tensor: shape=(2, 2), dtype=int32, numpy=\n",
       "array([[2318,   85],\n",
       "       [ 354,  243]])>"
      ]
     },
     "execution_count": 86,
     "metadata": {},
     "output_type": "execute_result"
    }
   ],
   "source": [
    "cm = tf.math.confusion_matrix(labels=y_test, predictions=y_preds)\n",
    "cm"
   ]
  },
  {
   "cell_type": "code",
   "execution_count": 87,
   "id": "1324d5ba",
   "metadata": {},
   "outputs": [
    {
     "data": {
      "text/plain": [
       "Text(33.0, 0.5, 'true')"
      ]
     },
     "execution_count": 87,
     "metadata": {},
     "output_type": "execute_result"
    },
    {
     "data": {
      "image/png": "[encoded data removed]",
      "text/plain": [
       "<Figure size 432x288 with 2 Axes>"
      ]
     },
     "metadata": {
      "needs_background": "light"
     },
     "output_type": "display_data"
    }
   ],
   "source": [
    "import seaborn as sns\n",
    "sns.heatmap(cm,annot=True,fmt='d')\n",
    "plt.xlabel('Predicted')\n",
    "plt.ylabel(\"true\")"
   ]
  }
 ],
 "metadata": {
  "kernelspec": {
   "display_name": "Python 3 (ipykernel)",
   "language": "python",
   "name": "python3"
  },
  "language_info": {
   "codemirror_mode": {
    "name": "ipython",
    "version": 3
   },
   "file_extension": ".py",
   "mimetype": "text/x-python",
   "name": "python",
   "nbconvert_exporter": "python",
   "pygments_lexer": "ipython3",
   "version": "3.8.10"
  }
 },
 "nbformat": 4,
 "nbformat_minor": 5
}
